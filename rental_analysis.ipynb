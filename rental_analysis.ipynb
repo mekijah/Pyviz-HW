{
 "cells": [
  {
   "cell_type": "markdown",
   "metadata": {},
   "source": [
    "# San Francisco Housing Rental Analysis\n",
    "\n",
    "In this assignment, you will perform basic analysis for the San Francisco Housing Market to allow potential real estate investors to choose rental investment properties. "
   ]
  },
  {
   "cell_type": "code",
   "execution_count": null,
   "metadata": {},
   "outputs": [],
   "source": [
    "# initial imports\n",
    "import os\n",
    "import pandas as pd\n",
    "import matplotlib.pyplot as plt\n",
    "import hvplot.pandas\n",
    "import plotly.express as px\n",
    "from pathlib import Path\n",
    "from dotenv import load_dotenv\n",
    "\n",
    "%matplotlib inline"
   ]
  },
  {
   "cell_type": "code",
   "execution_count": null,
   "metadata": {},
   "outputs": [],
   "source": [
    "# Read the Mapbox API key\n",
    "load_dotenv()\n",
    "mapbox_token = os.getenv(\"MAPBOX\")"
   ]
  },
  {
   "cell_type": "markdown",
   "metadata": {},
   "source": [
    "## Load Data"
   ]
  },
  {
   "cell_type": "code",
   "execution_count": null,
   "metadata": {},
   "outputs": [],
   "source": [
    "# Read the census data into a Pandas DataFrame\n",
    "file_path = Path(\"sfo_neighborhoods_census_data.csv\")\n",
    "sfo_data = pd.read_csv(file_path, index_col=\"year\")\n",
    "sfo_data.head()"
   ]
  },
  {
   "cell_type": "markdown",
   "metadata": {},
   "source": [
    "- - - "
   ]
  },
  {
   "cell_type": "markdown",
   "metadata": {},
   "source": [
    "## Housing Units Per Year\n",
    "\n",
    "In this section, you will calculate the number of housing units per year and visualize the results as a bar chart using the Pandas plot function. \n",
    "\n",
    "Hint: Use the Pandas groupby function\n",
    "\n",
    "Optional challenge: Use the min, max, and std to scale the y limits of the chart."
   ]
  },
  {
   "cell_type": "code",
   "execution_count": null,
   "metadata": {},
   "outputs": [],
   "source": [
    "# Calculate the mean number of housing units per year (hint: use groupby) \n",
    "avg_house_per_year = sfo_data['housing_units'].groupby(by='year', level=None).mean()\n",
    "avg_house_per_year"
   ]
  },
  {
   "cell_type": "code",
   "execution_count": null,
   "metadata": {},
   "outputs": [],
   "source": [
    "# Use the Pandas plot function to plot the average housing units per year.\n",
    "# Note: You will need to manually adjust the y limit of the chart using the min and max values from above.\n",
    "avg_house_per_year_plot = avg_house_per_year.plot.bar(ylim=[370000, 387500],\n",
    "                            title='Housing Units in San Francisco from 2010 to 2016')\n",
    "\n",
    "avg_house_per_year_plot.set_xlabel(\"Year\")\n",
    "avg_house_per_year_plot.set_ylabel(\"Housing Units\")\n",
    "\n",
    "# Optional Challenge: Use the min, max, and std to scale the y limits of the chart\n",
    "# YOUR CODE HERE!\n",
    "\n",
    "\n",
    "plt.show()\n",
    "plt.close(fig_housing_units)"
   ]
  },
  {
   "cell_type": "markdown",
   "metadata": {},
   "source": [
    "- - - "
   ]
  },
  {
   "cell_type": "markdown",
   "metadata": {},
   "source": [
    "## Average Prices per Square Foot\n",
    "\n",
    "In this section, you will calculate the average gross rent and average sales price for each year. Plot the results as a line chart."
   ]
  },
  {
   "cell_type": "markdown",
   "metadata": {},
   "source": [
    "### Average Gross Rent in San Francisco Per Year"
   ]
  },
  {
   "cell_type": "code",
   "execution_count": null,
   "metadata": {},
   "outputs": [],
   "source": [
    "# Calculate the average gross rent and average sale price per square foot\n",
    "avg_gross_avg_sale_sqft = sfo_data[['sale_price_sqr_foot','gross_rent']].groupby(by='year', level=None).mean()\n",
    "avg_gross_avg_sale_sqft"
   ]
  },
  {
   "cell_type": "code",
   "execution_count": null,
   "metadata": {},
   "outputs": [],
   "source": [
    "# Plot the Average Gross Rent per Year as a Line Chart \n",
    "avg_gross_rent_year = sfo_data['gross_rent'].groupby(by='year', level=None).mean()\n",
    "avg_gross_rent_year_plot = avg_gross_rent_year.plot.line(ylim=[1000, 4500],\n",
    "                            title='Average Gross Rent in San Francisco')\n",
    "\n",
    "avg_gross_rent_year_plot.set_xlabel(\"Year\")\n",
    "avg_gross_rent_year_plot.set_ylabel(\"Gross Rent\")"
   ]
  },
  {
   "cell_type": "markdown",
   "metadata": {},
   "source": [
    "### Average Sales Price per Year"
   ]
  },
  {
   "cell_type": "code",
   "execution_count": null,
   "metadata": {},
   "outputs": [],
   "source": [
    "# Plot the Average Sales Price per Year as a line chart\n",
    "avg_sale_price_year = sfo_data['sale_price_sqr_foot'].groupby(by='year', level=None).mean()\n",
    "avg_sale_price_year_plot = avg_sale_price_year.plot.line(ylim=[300, 700],\n",
    "                            title='Average Sales Price per Year in San Francisco')\n",
    "\n",
    "avg_sale_price_year_plot.set_xlabel(\"Year\")\n",
    "avg_sale_price_year_plot.set_ylabel(\"Avg Sale Price\")"
   ]
  },
  {
   "cell_type": "markdown",
   "metadata": {},
   "source": [
    "- - - "
   ]
  },
  {
   "cell_type": "markdown",
   "metadata": {},
   "source": [
    "## Average Prices by Neighborhood\n",
    "\n",
    "In this section, you will use hvplot to create an interactive visulization of the Average Prices with a dropdown selector for the neighborhood.\n",
    "\n",
    "Hint: It will be easier to create a new DataFrame from grouping the data and calculating the mean prices for each year and neighborhood"
   ]
  },
  {
   "cell_type": "code",
   "execution_count": null,
   "metadata": {},
   "outputs": [],
   "source": [
    "# Group by year and neighborhood and then create a new dataframe of the mean values\n",
    "sfo_data_2 = pd.read_csv(file_path)\n",
    "avg_prices_df = sfo_data_2.groupby(by=['year','neighborhood'])\n",
    "avg_prices_df.head()"
   ]
  },
  {
   "cell_type": "code",
   "execution_count": null,
   "metadata": {},
   "outputs": [],
   "source": [
    "# Use hvplot to create an interactive line chart of the average price per sq ft.\n",
    "# The plot should have a dropdown selector for the neighborhood\n",
    "avg_price_mean = avg_prices_df.mean()\n",
    "\n",
    "avg_prices_df_plot = avg_price_mean.hvplot.line(\n",
    "    x='year',\n",
    "    y='sale_price_sqr_foot',\n",
    "    xlabel= 'Year',\n",
    "    ylabel= 'Price per Sq Ft',\n",
    "    title='Average Price per Sq Ft',\n",
    "    groupby='neighborhood',\n",
    "    width=600\n",
    ").opts(yformatter='%0f')\n",
    "\n",
    "avg_prices_df_plot"
   ]
  },
  {
   "cell_type": "markdown",
   "metadata": {},
   "source": [
    "- - - "
   ]
  },
  {
   "cell_type": "markdown",
   "metadata": {},
   "source": [
    "## The Top 10 Most Expensive Neighborhoods\n",
    "\n",
    "In this section, you will need to calculate the mean sale price for each neighborhood and then sort the values to obtain the top 10 most expensive neighborhoods on average. Plot the results as a bar chart."
   ]
  },
  {
   "cell_type": "code",
   "execution_count": null,
   "metadata": {},
   "outputs": [],
   "source": [
    "# Getting the data from the top 10 expensive neighborhoods\n",
    "sfo_data_3 = pd.read_csv(file_path, index_col='neighborhood')\n",
    "mean_sale_price_neighborhood = sfo_data_3.groupby(by=['neighborhood']).mean()\n",
    "mean_sale_price_neighborhood.sort_values(by='sale_price_sqr_foot', ascending=False, inplace=True)\n",
    "mean_sale_price_neighborhood.reset_index(inplace=True)\n",
    "mean_sale_price_neighborhood = mean_sale_price_neighborhood.head(10)\n",
    "mean_sale_price_neighborhood.drop(columns='year', inplace=True)\n",
    "mean_sale_price_neighborhood"
   ]
  },
  {
   "cell_type": "code",
   "execution_count": null,
   "metadata": {},
   "outputs": [],
   "source": [
    "# Plotting the data from the top 10 expensive neighborhoods\n",
    "top_10_neighborhoods_plot = mean_sale_price_neighborhood.hvplot.bar(x='neighborhood',\n",
    "                                y='sale_price_sqr_foot',\n",
    "                                rot=45,\n",
    "                                ylim=[600,1000],\n",
    "                                title='Top 10 expensive neighborhoods')\n",
    "top_10_neighborhoods_plot"
   ]
  },
  {
   "cell_type": "markdown",
   "metadata": {},
   "source": [
    "- - - "
   ]
  },
  {
   "cell_type": "markdown",
   "metadata": {},
   "source": [
    "## Parallel Coordinates and Parallel Categories Analysis\n",
    "\n",
    "In this section, you will use plotly express to create parallel coordinates and parallel categories visualizations so that investors can interactively filter and explore various factors related to the sales price of the neighborhoods. \n",
    "\n",
    "Using the DataFrame of Average values per neighborhood (calculated above), create the following visualizations:\n",
    "1. Create a Parallel Coordinates Plot\n",
    "2. Create a Parallel Categories Plot"
   ]
  },
  {
   "cell_type": "code",
   "execution_count": null,
   "metadata": {},
   "outputs": [],
   "source": [
    "# Parallel Coordinates Plot\n",
    "parallel_coordinate_plot = px.parallel_coordinates(\n",
    "    mean_sale_price_neighborhood,\n",
    "    color='sale_price_sqr_foot')\n",
    "parallel_coordinate_plot"
   ]
  },
  {
   "cell_type": "code",
   "execution_count": null,
   "metadata": {},
   "outputs": [],
   "source": [
    "# Parallel Categories Plot\n",
    "parallel_categories_plot = px.parallel_categories(\n",
    "mean_sale_price_neighborhood,\n",
    "color='sale_price_sqr_foot',\n",
    "dimensions=['neighborhood', 'sale_price_sqr_foot', 'housing_units', 'gross_rent'],\n",
    "color_continuous_scale=px.colors.sequential.Inferno)\n",
    "parallel_categories_plot"
   ]
  },
  {
   "cell_type": "markdown",
   "metadata": {},
   "source": [
    "- - - "
   ]
  },
  {
   "cell_type": "markdown",
   "metadata": {},
   "source": [
    "## Neighborhood Map\n",
    "\n",
    "In this section, you will read in neighboor location data and build an interactive map with the average prices per neighborhood. Use a scatter_mapbox from plotly express to create the visualization. Remember, you will need your mapbox api key for this."
   ]
  },
  {
   "cell_type": "markdown",
   "metadata": {},
   "source": [
    "### Load Location Data"
   ]
  },
  {
   "cell_type": "code",
   "execution_count": null,
   "metadata": {},
   "outputs": [],
   "source": [
    "# Load neighborhoods coordinates data\n",
    "file_path = Path(\"Data/neighborhoods_coordinates.csv\")\n",
    "df_neighborhood_locations = pd.read_csv(file_path)\n",
    "df_neighborhood_locations.head()"
   ]
  },
  {
   "cell_type": "markdown",
   "metadata": {},
   "source": [
    "### Data Preparation\n",
    "\n",
    "You will need to join the location data with the mean prices per neighborhood\n",
    "\n",
    "1. Calculate the mean values for each neighborhood\n",
    "2. Join the average values with the neighborhood locations"
   ]
  },
  {
   "cell_type": "code",
   "execution_count": null,
   "metadata": {},
   "outputs": [],
   "source": [
    "# Calculate the mean values for each neighborhood\n",
    "all_neighborhoods = sfo_data.groupby(\n",
    "    by='neighborhood').mean()\n",
    "all_neighborhoods.reset_index(inplace=True)\n",
    "all_neighborhoods.rename(columns={'neighborhood': 'Neighborhood'},\n",
    "                         inplace=True)\n",
    "all_neighborhoods.head()"
   ]
  },
  {
   "cell_type": "code",
   "execution_count": null,
   "metadata": {},
   "outputs": [],
   "source": [
    "# Join the average values with the neighborhood locations\n",
    "all_neighborhoods = pd.merge(\n",
    "    df_neighborhood_locations,\n",
    "    all_neighborhoods,\n",
    "    on='Neighborhood')\n",
    "all_neighborhoods.head()"
   ]
  },
  {
   "cell_type": "markdown",
   "metadata": {},
   "source": [
    "### Mapbox Visualization\n",
    "\n",
    "Plot the aveage values per neighborhood with a plotly express scatter_mapbox visualization."
   ]
  },
  {
   "cell_type": "code",
   "execution_count": null,
   "metadata": {},
   "outputs": [],
   "source": [
    "# Create a scatter mapbox to analyze neighborhood info\n",
    "px.set_mapbox_access_token(mapbox_token)\n",
    "map_scatter = px.scatter_mapbox(all_neighborhoods,\n",
    "    lat='Lat',\n",
    "    lon='Lon',\n",
    "    size='sale_price_sqr_foot',\n",
    "    color='gross_rent',\n",
    "    color_continuous_scale=px.colors.cyclical.IceFire,\n",
    "    size_max=15,\n",
    "    zoom=11,\n",
    "    hover_name='Neighborhood',\n",
    "    title='Averange Sale Price Per Square Foot and Gross Rent in San Francisco',\n",
    ")\n",
    "map_scatter.show()"
   ]
  }
 ],
 "metadata": {
  "file_extension": ".py",
  "kernelspec": {
   "display_name": "Python 3",
   "language": "python",
   "name": "python3"
  },
  "language_info": {
   "codemirror_mode": {
    "name": "ipython",
    "version": 3
   },
   "file_extension": ".py",
   "mimetype": "text/x-python",
   "name": "python",
   "nbconvert_exporter": "python",
   "pygments_lexer": "ipython3",
   "version": "3.8.3"
  },
  "mimetype": "text/x-python",
  "name": "python",
  "npconvert_exporter": "python",
  "pygments_lexer": "ipython3",
  "version": 3
 },
 "nbformat": 4,
 "nbformat_minor": 4
}
